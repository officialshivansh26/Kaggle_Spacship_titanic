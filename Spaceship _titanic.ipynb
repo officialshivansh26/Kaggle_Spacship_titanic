{
 "cells": [
  {
   "cell_type": "code",
   "execution_count": 1,
   "metadata": {},
   "outputs": [],
   "source": [
    "import pandas as pd\n",
    "import numpy as np\n",
    "from scipy import stats\n",
    "\n",
    "\n",
    "import matplotlib.pyplot as plt\n",
    "import seaborn as sns\n",
    "\n",
    "from sklearn.model_selection import train_test_split, GridSearchCV, cross_val_score\n",
    "from sklearn.linear_model import LogisticRegression\n",
    "from sklearn.tree import DecisionTreeClassifier\n",
    "from sklearn.ensemble import RandomForestClassifier, BaggingClassifier\n",
    "from sklearn.ensemble import GradientBoostingClassifier\n",
    "from sklearn.svm import SVC\n",
    "from lightgbm import LGBMClassifier\n",
    "from xgboost import XGBClassifier\n",
    "from sklearn.metrics import accuracy_score\n",
    "import optuna\n",
    "\n"
   ]
  },
  {
   "cell_type": "code",
   "execution_count": 2,
   "metadata": {},
   "outputs": [],
   "source": [
    "train_df = pd.read_csv('C:/Users/91950/Desktop/spaceship_titanic/train.csv')\n",
    "test_df = pd.read_csv('C:/Users/91950/Desktop/spaceship_titanic/test.csv')"
   ]
  },
  {
   "cell_type": "code",
   "execution_count": 3,
   "metadata": {},
   "outputs": [
    {
     "data": {
      "text/plain": [
       "PassengerId    object\n",
       "HomePlanet     object\n",
       "CryoSleep      object\n",
       "Cabin          object\n",
       "Destination    object\n",
       "VIP            object\n",
       "Name           object\n",
       "dtype: object"
      ]
     },
     "execution_count": 3,
     "metadata": {},
     "output_type": "execute_result"
    }
   ],
   "source": [
    "train_df.dtypes[train_df.dtypes == 'object']"
   ]
  },
  {
   "cell_type": "code",
   "execution_count": 4,
   "metadata": {},
   "outputs": [
    {
     "data": {
      "text/plain": [
       "Age             float64\n",
       "RoomService     float64\n",
       "FoodCourt       float64\n",
       "ShoppingMall    float64\n",
       "Spa             float64\n",
       "VRDeck          float64\n",
       "Transported        bool\n",
       "dtype: object"
      ]
     },
     "execution_count": 4,
     "metadata": {},
     "output_type": "execute_result"
    }
   ],
   "source": [
    "train_df.dtypes[train_df.dtypes != 'object']"
   ]
  },
  {
   "cell_type": "code",
   "execution_count": 5,
   "metadata": {},
   "outputs": [
    {
     "name": "stdout",
     "output_type": "stream",
     "text": [
      "<class 'pandas.core.frame.DataFrame'>\n",
      "RangeIndex: 8693 entries, 0 to 8692\n",
      "Data columns (total 14 columns):\n",
      " #   Column        Non-Null Count  Dtype  \n",
      "---  ------        --------------  -----  \n",
      " 0   PassengerId   8693 non-null   object \n",
      " 1   HomePlanet    8492 non-null   object \n",
      " 2   CryoSleep     8476 non-null   object \n",
      " 3   Cabin         8494 non-null   object \n",
      " 4   Destination   8511 non-null   object \n",
      " 5   Age           8514 non-null   float64\n",
      " 6   VIP           8490 non-null   object \n",
      " 7   RoomService   8512 non-null   float64\n",
      " 8   FoodCourt     8510 non-null   float64\n",
      " 9   ShoppingMall  8485 non-null   float64\n",
      " 10  Spa           8510 non-null   float64\n",
      " 11  VRDeck        8505 non-null   float64\n",
      " 12  Name          8493 non-null   object \n",
      " 13  Transported   8693 non-null   bool   \n",
      "dtypes: bool(1), float64(6), object(7)\n",
      "memory usage: 891.5+ KB\n"
     ]
    }
   ],
   "source": [
    "train_df.info()"
   ]
  },
  {
   "cell_type": "code",
   "execution_count": 6,
   "metadata": {},
   "outputs": [
    {
     "data": {
      "text/html": [
       "<div>\n",
       "<style scoped>\n",
       "    .dataframe tbody tr th:only-of-type {\n",
       "        vertical-align: middle;\n",
       "    }\n",
       "\n",
       "    .dataframe tbody tr th {\n",
       "        vertical-align: top;\n",
       "    }\n",
       "\n",
       "    .dataframe thead th {\n",
       "        text-align: right;\n",
       "    }\n",
       "</style>\n",
       "<table border=\"1\" class=\"dataframe\">\n",
       "  <thead>\n",
       "    <tr style=\"text-align: right;\">\n",
       "      <th></th>\n",
       "      <th>Age</th>\n",
       "      <th>RoomService</th>\n",
       "      <th>FoodCourt</th>\n",
       "      <th>ShoppingMall</th>\n",
       "      <th>Spa</th>\n",
       "      <th>VRDeck</th>\n",
       "    </tr>\n",
       "  </thead>\n",
       "  <tbody>\n",
       "    <tr>\n",
       "      <th>count</th>\n",
       "      <td>8514.000000</td>\n",
       "      <td>8512.000000</td>\n",
       "      <td>8510.000000</td>\n",
       "      <td>8485.000000</td>\n",
       "      <td>8510.000000</td>\n",
       "      <td>8505.000000</td>\n",
       "    </tr>\n",
       "    <tr>\n",
       "      <th>mean</th>\n",
       "      <td>28.827930</td>\n",
       "      <td>224.687617</td>\n",
       "      <td>458.077203</td>\n",
       "      <td>173.729169</td>\n",
       "      <td>311.138778</td>\n",
       "      <td>304.854791</td>\n",
       "    </tr>\n",
       "    <tr>\n",
       "      <th>std</th>\n",
       "      <td>14.489021</td>\n",
       "      <td>666.717663</td>\n",
       "      <td>1611.489240</td>\n",
       "      <td>604.696458</td>\n",
       "      <td>1136.705535</td>\n",
       "      <td>1145.717189</td>\n",
       "    </tr>\n",
       "    <tr>\n",
       "      <th>min</th>\n",
       "      <td>0.000000</td>\n",
       "      <td>0.000000</td>\n",
       "      <td>0.000000</td>\n",
       "      <td>0.000000</td>\n",
       "      <td>0.000000</td>\n",
       "      <td>0.000000</td>\n",
       "    </tr>\n",
       "    <tr>\n",
       "      <th>25%</th>\n",
       "      <td>19.000000</td>\n",
       "      <td>0.000000</td>\n",
       "      <td>0.000000</td>\n",
       "      <td>0.000000</td>\n",
       "      <td>0.000000</td>\n",
       "      <td>0.000000</td>\n",
       "    </tr>\n",
       "    <tr>\n",
       "      <th>50%</th>\n",
       "      <td>27.000000</td>\n",
       "      <td>0.000000</td>\n",
       "      <td>0.000000</td>\n",
       "      <td>0.000000</td>\n",
       "      <td>0.000000</td>\n",
       "      <td>0.000000</td>\n",
       "    </tr>\n",
       "    <tr>\n",
       "      <th>75%</th>\n",
       "      <td>38.000000</td>\n",
       "      <td>47.000000</td>\n",
       "      <td>76.000000</td>\n",
       "      <td>27.000000</td>\n",
       "      <td>59.000000</td>\n",
       "      <td>46.000000</td>\n",
       "    </tr>\n",
       "    <tr>\n",
       "      <th>max</th>\n",
       "      <td>79.000000</td>\n",
       "      <td>14327.000000</td>\n",
       "      <td>29813.000000</td>\n",
       "      <td>23492.000000</td>\n",
       "      <td>22408.000000</td>\n",
       "      <td>24133.000000</td>\n",
       "    </tr>\n",
       "  </tbody>\n",
       "</table>\n",
       "</div>"
      ],
      "text/plain": [
       "               Age   RoomService     FoodCourt  ShoppingMall           Spa  \\\n",
       "count  8514.000000   8512.000000   8510.000000   8485.000000   8510.000000   \n",
       "mean     28.827930    224.687617    458.077203    173.729169    311.138778   \n",
       "std      14.489021    666.717663   1611.489240    604.696458   1136.705535   \n",
       "min       0.000000      0.000000      0.000000      0.000000      0.000000   \n",
       "25%      19.000000      0.000000      0.000000      0.000000      0.000000   \n",
       "50%      27.000000      0.000000      0.000000      0.000000      0.000000   \n",
       "75%      38.000000     47.000000     76.000000     27.000000     59.000000   \n",
       "max      79.000000  14327.000000  29813.000000  23492.000000  22408.000000   \n",
       "\n",
       "             VRDeck  \n",
       "count   8505.000000  \n",
       "mean     304.854791  \n",
       "std     1145.717189  \n",
       "min        0.000000  \n",
       "25%        0.000000  \n",
       "50%        0.000000  \n",
       "75%       46.000000  \n",
       "max    24133.000000  "
      ]
     },
     "execution_count": 6,
     "metadata": {},
     "output_type": "execute_result"
    }
   ],
   "source": [
    "train_df.describe()"
   ]
  },
  {
   "cell_type": "code",
   "execution_count": 7,
   "metadata": {},
   "outputs": [
    {
     "data": {
      "text/html": [
       "<div>\n",
       "<style scoped>\n",
       "    .dataframe tbody tr th:only-of-type {\n",
       "        vertical-align: middle;\n",
       "    }\n",
       "\n",
       "    .dataframe tbody tr th {\n",
       "        vertical-align: top;\n",
       "    }\n",
       "\n",
       "    .dataframe thead th {\n",
       "        text-align: right;\n",
       "    }\n",
       "</style>\n",
       "<table border=\"1\" class=\"dataframe\">\n",
       "  <thead>\n",
       "    <tr style=\"text-align: right;\">\n",
       "      <th></th>\n",
       "      <th>PassengerId</th>\n",
       "      <th>HomePlanet</th>\n",
       "      <th>CryoSleep</th>\n",
       "      <th>Cabin</th>\n",
       "      <th>Destination</th>\n",
       "      <th>VIP</th>\n",
       "      <th>Name</th>\n",
       "    </tr>\n",
       "  </thead>\n",
       "  <tbody>\n",
       "    <tr>\n",
       "      <th>count</th>\n",
       "      <td>8693</td>\n",
       "      <td>8492</td>\n",
       "      <td>8476</td>\n",
       "      <td>8494</td>\n",
       "      <td>8511</td>\n",
       "      <td>8490</td>\n",
       "      <td>8493</td>\n",
       "    </tr>\n",
       "    <tr>\n",
       "      <th>unique</th>\n",
       "      <td>8693</td>\n",
       "      <td>3</td>\n",
       "      <td>2</td>\n",
       "      <td>6560</td>\n",
       "      <td>3</td>\n",
       "      <td>2</td>\n",
       "      <td>8473</td>\n",
       "    </tr>\n",
       "    <tr>\n",
       "      <th>top</th>\n",
       "      <td>0001_01</td>\n",
       "      <td>Earth</td>\n",
       "      <td>False</td>\n",
       "      <td>G/734/S</td>\n",
       "      <td>TRAPPIST-1e</td>\n",
       "      <td>False</td>\n",
       "      <td>Gollux Reedall</td>\n",
       "    </tr>\n",
       "    <tr>\n",
       "      <th>freq</th>\n",
       "      <td>1</td>\n",
       "      <td>4602</td>\n",
       "      <td>5439</td>\n",
       "      <td>8</td>\n",
       "      <td>5915</td>\n",
       "      <td>8291</td>\n",
       "      <td>2</td>\n",
       "    </tr>\n",
       "  </tbody>\n",
       "</table>\n",
       "</div>"
      ],
      "text/plain": [
       "       PassengerId HomePlanet CryoSleep    Cabin  Destination    VIP  \\\n",
       "count         8693       8492      8476     8494         8511   8490   \n",
       "unique        8693          3         2     6560            3      2   \n",
       "top        0001_01      Earth     False  G/734/S  TRAPPIST-1e  False   \n",
       "freq             1       4602      5439        8         5915   8291   \n",
       "\n",
       "                  Name  \n",
       "count             8493  \n",
       "unique            8473  \n",
       "top     Gollux Reedall  \n",
       "freq                 2  "
      ]
     },
     "execution_count": 7,
     "metadata": {},
     "output_type": "execute_result"
    }
   ],
   "source": [
    "train_df.describe(include=['object'])"
   ]
  },
  {
   "cell_type": "code",
   "execution_count": 8,
   "metadata": {},
   "outputs": [
    {
     "data": {
      "text/plain": [
       "PassengerId       0\n",
       "HomePlanet      201\n",
       "CryoSleep       217\n",
       "Cabin           199\n",
       "Destination     182\n",
       "Age             179\n",
       "VIP             203\n",
       "RoomService     181\n",
       "FoodCourt       183\n",
       "ShoppingMall    208\n",
       "Spa             183\n",
       "VRDeck          188\n",
       "Name            200\n",
       "Transported       0\n",
       "dtype: int64"
      ]
     },
     "execution_count": 8,
     "metadata": {},
     "output_type": "execute_result"
    }
   ],
   "source": [
    "train_df.isnull().sum()"
   ]
  },
  {
   "cell_type": "code",
   "execution_count": 9,
   "metadata": {},
   "outputs": [],
   "source": [
    "columns_to_fill = ['RoomService', 'FoodCourt', 'ShoppingMall', 'Spa', 'VRDeck']\n",
    "\n",
    "for index, row in train_df.iterrows():\n",
    "    row_mean = row[columns_to_fill].mean()\n",
    "    train_df.loc[index, columns_to_fill] = row[columns_to_fill].fillna(row_mean)\n",
    "for index, row in test_df.iterrows():\n",
    "    row_mean = row[columns_to_fill].mean()\n",
    "    test_df.loc[index, columns_to_fill] = row[columns_to_fill].fillna(row_mean)    \n"
   ]
  },
  {
   "cell_type": "code",
   "execution_count": 10,
   "metadata": {},
   "outputs": [],
   "source": [
    "cat_columns_to_fill = ['CryoSleep', 'HomePlanet', 'Destination', 'VIP']\n",
    "\n",
    "train_df[cat_columns_to_fill] = train_df[cat_columns_to_fill].fillna(train_df[cat_columns_to_fill].mode().iloc[0])\n",
    "test_df[cat_columns_to_fill] = test_df[cat_columns_to_fill].fillna(test_df[cat_columns_to_fill].mode().iloc[0])\n"
   ]
  },
  {
   "cell_type": "code",
   "execution_count": 11,
   "metadata": {},
   "outputs": [],
   "source": [
    "train_df['Age'] = train_df['Age'].fillna(train_df['Age'].mean())\n",
    "test_df['Age'] = test_df['Age'].fillna(test_df['Age'].mean())"
   ]
  },
  {
   "cell_type": "code",
   "execution_count": 12,
   "metadata": {},
   "outputs": [],
   "source": [
    "train_df = train_df.drop('Name', axis=1)\n",
    "test_df = test_df.drop('Name', axis=1)"
   ]
  },
  {
   "cell_type": "code",
   "execution_count": 13,
   "metadata": {},
   "outputs": [],
   "source": [
    "train_df['Cabin'].fillna('unknown', inplace=True)\n",
    "test_df['Cabin'].fillna('unknown', inplace=True)\n"
   ]
  },
  {
   "cell_type": "code",
   "execution_count": 14,
   "metadata": {},
   "outputs": [
    {
     "data": {
      "text/plain": [
       "PassengerId     0\n",
       "HomePlanet      0\n",
       "CryoSleep       0\n",
       "Destination     0\n",
       "Age             0\n",
       "VIP             0\n",
       "RoomService     0\n",
       "FoodCourt       0\n",
       "ShoppingMall    0\n",
       "Spa             0\n",
       "VRDeck          0\n",
       "Transported     0\n",
       "dtype: int64"
      ]
     },
     "execution_count": 14,
     "metadata": {},
     "output_type": "execute_result"
    }
   ],
   "source": [
    "train_df.isnull().sum()"
   ]
  },
  {
   "cell_type": "code",
   "execution_count": 15,
   "metadata": {},
   "outputs": [
    {
     "data": {
      "text/plain": [
       "PassengerId     0\n",
       "HomePlanet      0\n",
       "CryoSleep       0\n",
       "Destination     0\n",
       "Age             0\n",
       "VIP             0\n",
       "RoomService     0\n",
       "FoodCourt       0\n",
       "ShoppingMall    0\n",
       "Spa             0\n",
       "VRDeck          0\n",
       "dtype: int64"
      ]
     },
     "execution_count": 15,
     "metadata": {},
     "output_type": "execute_result"
    }
   ],
   "source": [
    "test_df.isnull().sum()"
   ]
  },
  {
   "cell_type": "code",
   "execution_count": 16,
   "metadata": {},
   "outputs": [],
   "source": [
    "train_df['CryoSleep'] = train_df['CryoSleep'].astype(int)\n",
    "test_df['CryoSleep'] = test_df['CryoSleep'].astype(int)\n",
    "train_df['VIP'] = train_df['VIP'].astype(int)\n",
    "test_df['VIP'] = test_df['VIP'].astype(int)"
   ]
  },
  {
   "cell_type": "code",
   "execution_count": 17,
   "metadata": {},
   "outputs": [
    {
     "ename": "KeyError",
     "evalue": "'Cabin'",
     "output_type": "error",
     "traceback": [
      "\u001b[1;31m---------------------------------------------------------------------------\u001b[0m",
      "\u001b[1;31mKeyError\u001b[0m                                  Traceback (most recent call last)",
      "File \u001b[1;32mc:\\Users\\91950\\miniconda3\\envs\\Kaglehouse\\Lib\\site-packages\\pandas\\core\\indexes\\base.py:3791\u001b[0m, in \u001b[0;36mIndex.get_loc\u001b[1;34m(self, key)\u001b[0m\n\u001b[0;32m   3790\u001b[0m \u001b[38;5;28;01mtry\u001b[39;00m:\n\u001b[1;32m-> 3791\u001b[0m     \u001b[38;5;28;01mreturn\u001b[39;00m \u001b[38;5;28;43mself\u001b[39;49m\u001b[38;5;241;43m.\u001b[39;49m\u001b[43m_engine\u001b[49m\u001b[38;5;241;43m.\u001b[39;49m\u001b[43mget_loc\u001b[49m\u001b[43m(\u001b[49m\u001b[43mcasted_key\u001b[49m\u001b[43m)\u001b[49m\n\u001b[0;32m   3792\u001b[0m \u001b[38;5;28;01mexcept\u001b[39;00m \u001b[38;5;167;01mKeyError\u001b[39;00m \u001b[38;5;28;01mas\u001b[39;00m err:\n",
      "File \u001b[1;32mindex.pyx:152\u001b[0m, in \u001b[0;36mpandas._libs.index.IndexEngine.get_loc\u001b[1;34m()\u001b[0m\n",
      "File \u001b[1;32mindex.pyx:181\u001b[0m, in \u001b[0;36mpandas._libs.index.IndexEngine.get_loc\u001b[1;34m()\u001b[0m\n",
      "File \u001b[1;32mpandas\\_libs\\hashtable_class_helper.pxi:7080\u001b[0m, in \u001b[0;36mpandas._libs.hashtable.PyObjectHashTable.get_item\u001b[1;34m()\u001b[0m\n",
      "File \u001b[1;32mpandas\\_libs\\hashtable_class_helper.pxi:7088\u001b[0m, in \u001b[0;36mpandas._libs.hashtable.PyObjectHashTable.get_item\u001b[1;34m()\u001b[0m\n",
      "\u001b[1;31mKeyError\u001b[0m: 'Cabin'",
      "\nThe above exception was the direct cause of the following exception:\n",
      "\u001b[1;31mKeyError\u001b[0m                                  Traceback (most recent call last)",
      "Cell \u001b[1;32mIn[17], line 1\u001b[0m\n\u001b[1;32m----> 1\u001b[0m combined_df \u001b[38;5;241m=\u001b[39m pd\u001b[38;5;241m.\u001b[39mconcat([\u001b[43mtrain_df\u001b[49m\u001b[43m[\u001b[49m\u001b[38;5;124;43m'\u001b[39;49m\u001b[38;5;124;43mCabin\u001b[39;49m\u001b[38;5;124;43m'\u001b[39;49m\u001b[43m]\u001b[49m, test_df[\u001b[38;5;124m'\u001b[39m\u001b[38;5;124mCabin\u001b[39m\u001b[38;5;124m'\u001b[39m]], ignore_index\u001b[38;5;241m=\u001b[39m\u001b[38;5;28;01mTrue\u001b[39;00m)\n\u001b[0;32m      3\u001b[0m combined_df, unique_cabins \u001b[38;5;241m=\u001b[39m pd\u001b[38;5;241m.\u001b[39mfactorize(combined_df)\n\u001b[0;32m      5\u001b[0m train_df[\u001b[38;5;124m'\u001b[39m\u001b[38;5;124mCabin\u001b[39m\u001b[38;5;124m'\u001b[39m] \u001b[38;5;241m=\u001b[39m combined_df[:\u001b[38;5;28mlen\u001b[39m(train_df)]\n",
      "File \u001b[1;32mc:\\Users\\91950\\miniconda3\\envs\\Kaglehouse\\Lib\\site-packages\\pandas\\core\\frame.py:3893\u001b[0m, in \u001b[0;36mDataFrame.__getitem__\u001b[1;34m(self, key)\u001b[0m\n\u001b[0;32m   3891\u001b[0m \u001b[38;5;28;01mif\u001b[39;00m \u001b[38;5;28mself\u001b[39m\u001b[38;5;241m.\u001b[39mcolumns\u001b[38;5;241m.\u001b[39mnlevels \u001b[38;5;241m>\u001b[39m \u001b[38;5;241m1\u001b[39m:\n\u001b[0;32m   3892\u001b[0m     \u001b[38;5;28;01mreturn\u001b[39;00m \u001b[38;5;28mself\u001b[39m\u001b[38;5;241m.\u001b[39m_getitem_multilevel(key)\n\u001b[1;32m-> 3893\u001b[0m indexer \u001b[38;5;241m=\u001b[39m \u001b[38;5;28;43mself\u001b[39;49m\u001b[38;5;241;43m.\u001b[39;49m\u001b[43mcolumns\u001b[49m\u001b[38;5;241;43m.\u001b[39;49m\u001b[43mget_loc\u001b[49m\u001b[43m(\u001b[49m\u001b[43mkey\u001b[49m\u001b[43m)\u001b[49m\n\u001b[0;32m   3894\u001b[0m \u001b[38;5;28;01mif\u001b[39;00m is_integer(indexer):\n\u001b[0;32m   3895\u001b[0m     indexer \u001b[38;5;241m=\u001b[39m [indexer]\n",
      "File \u001b[1;32mc:\\Users\\91950\\miniconda3\\envs\\Kaglehouse\\Lib\\site-packages\\pandas\\core\\indexes\\base.py:3798\u001b[0m, in \u001b[0;36mIndex.get_loc\u001b[1;34m(self, key)\u001b[0m\n\u001b[0;32m   3793\u001b[0m     \u001b[38;5;28;01mif\u001b[39;00m \u001b[38;5;28misinstance\u001b[39m(casted_key, \u001b[38;5;28mslice\u001b[39m) \u001b[38;5;129;01mor\u001b[39;00m (\n\u001b[0;32m   3794\u001b[0m         \u001b[38;5;28misinstance\u001b[39m(casted_key, abc\u001b[38;5;241m.\u001b[39mIterable)\n\u001b[0;32m   3795\u001b[0m         \u001b[38;5;129;01mand\u001b[39;00m \u001b[38;5;28many\u001b[39m(\u001b[38;5;28misinstance\u001b[39m(x, \u001b[38;5;28mslice\u001b[39m) \u001b[38;5;28;01mfor\u001b[39;00m x \u001b[38;5;129;01min\u001b[39;00m casted_key)\n\u001b[0;32m   3796\u001b[0m     ):\n\u001b[0;32m   3797\u001b[0m         \u001b[38;5;28;01mraise\u001b[39;00m InvalidIndexError(key)\n\u001b[1;32m-> 3798\u001b[0m     \u001b[38;5;28;01mraise\u001b[39;00m \u001b[38;5;167;01mKeyError\u001b[39;00m(key) \u001b[38;5;28;01mfrom\u001b[39;00m \u001b[38;5;21;01merr\u001b[39;00m\n\u001b[0;32m   3799\u001b[0m \u001b[38;5;28;01mexcept\u001b[39;00m \u001b[38;5;167;01mTypeError\u001b[39;00m:\n\u001b[0;32m   3800\u001b[0m     \u001b[38;5;66;03m# If we have a listlike key, _check_indexing_error will raise\u001b[39;00m\n\u001b[0;32m   3801\u001b[0m     \u001b[38;5;66;03m#  InvalidIndexError. Otherwise we fall through and re-raise\u001b[39;00m\n\u001b[0;32m   3802\u001b[0m     \u001b[38;5;66;03m#  the TypeError.\u001b[39;00m\n\u001b[0;32m   3803\u001b[0m     \u001b[38;5;28mself\u001b[39m\u001b[38;5;241m.\u001b[39m_check_indexing_error(key)\n",
      "\u001b[1;31mKeyError\u001b[0m: 'Cabin'"
     ]
    }
   ],
   "source": [
    "combined_df = pd.concat([train_df['Cabin'], test_df['Cabin']], ignore_index=True)\n",
    "\n",
    "combined_df, unique_cabins = pd.factorize(combined_df)\n",
    "\n",
    "train_df['Cabin'] = combined_df[:len(train_df)]\n",
    "test_df['Cabin'] = combined_df[len(train_df):]"
   ]
  },
  {
   "cell_type": "code",
   "execution_count": 18,
   "metadata": {},
   "outputs": [],
   "source": [
    "combined_homeplanet = pd.concat([train_df['HomePlanet'], test_df['HomePlanet']], ignore_index=True)\n",
    "combined_destination = pd.concat([train_df['Destination'], test_df['Destination']], ignore_index=True)\n",
    "\n",
    "combined_homeplanet, unique_homeplanet = pd.factorize(combined_homeplanet)\n",
    "\n",
    "combined_destination, unique_destination = pd.factorize(combined_destination)\n",
    "\n",
    "train_df['HomePlanet'] = combined_homeplanet[:len(train_df)]\n",
    "test_df['HomePlanet'] = combined_homeplanet[len(train_df):]\n",
    "\n",
    "train_df['Destination'] = combined_destination[:len(train_df)]\n",
    "test_df['Destination'] = combined_destination[len(train_df):]"
   ]
  },
  {
   "cell_type": "code",
   "execution_count": 19,
   "metadata": {},
   "outputs": [],
   "source": [
    "train_df = train_df.drop('PassengerId', axis=1)"
   ]
  },
  {
   "cell_type": "code",
   "execution_count": 20,
   "metadata": {},
   "outputs": [],
   "source": [
    "X = train_df.drop('Transported', axis=1)\n",
    "Y = train_df['Transported']"
   ]
  },
  {
   "cell_type": "code",
   "execution_count": 21,
   "metadata": {},
   "outputs": [],
   "source": [
    "X_train, X_test, Y_train, Y_test = train_test_split(X, Y, test_size=0.2, random_state=25)"
   ]
  },
  {
   "cell_type": "code",
   "execution_count": 22,
   "metadata": {},
   "outputs": [
    {
     "name": "stdout",
     "output_type": "stream",
     "text": [
      "Logistic Regression Accuracy: 0.7751581368602645\n"
     ]
    }
   ],
   "source": [
    "# Logistic Regression\n",
    "logistic_regression = LogisticRegression(max_iter=8000)\n",
    "logistic_regression.fit(X_train, Y_train)\n",
    "logistic_regression_pred = logistic_regression.predict(X_test)\n",
    "logistic_regression_score = accuracy_score(Y_test, logistic_regression_pred)\n",
    "print(\"Logistic Regression Accuracy:\", logistic_regression_score)\n"
   ]
  },
  {
   "cell_type": "code",
   "execution_count": 23,
   "metadata": {},
   "outputs": [
    {
     "name": "stdout",
     "output_type": "stream",
     "text": [
      "Decision Tree Accuracy: 0.7464059804485337\n"
     ]
    }
   ],
   "source": [
    "decision_tree = DecisionTreeClassifier()\n",
    "decision_tree.fit(X_train, Y_train)\n",
    "decision_tree_pred = decision_tree.predict(X_test)\n",
    "decision_tree_score = accuracy_score(Y_test, decision_tree_pred)\n",
    "print(\"Decision Tree Accuracy:\", decision_tree_score)"
   ]
  },
  {
   "cell_type": "code",
   "execution_count": 24,
   "metadata": {},
   "outputs": [
    {
     "name": "stdout",
     "output_type": "stream",
     "text": [
      "Random Forest Accuracy: 0.7843588269120184\n"
     ]
    }
   ],
   "source": [
    "random_forest = RandomForestClassifier()\n",
    "random_forest.fit(X_train, Y_train)\n",
    "random_forest_pred = random_forest.predict(X_test)\n",
    "random_forest_score = accuracy_score(Y_test, random_forest_pred)\n",
    "print(\"Random Forest Accuracy:\", random_forest_score)"
   ]
  },
  {
   "cell_type": "code",
   "execution_count": 25,
   "metadata": {},
   "outputs": [
    {
     "name": "stderr",
     "output_type": "stream",
     "text": [
      "c:\\Users\\91950\\miniconda3\\envs\\Kaglehouse\\Lib\\site-packages\\sklearn\\ensemble\\_base.py:156: FutureWarning: `base_estimator` was renamed to `estimator` in version 1.2 and will be removed in 1.4.\n",
      "  warnings.warn(\n"
     ]
    },
    {
     "name": "stdout",
     "output_type": "stream",
     "text": [
      "Bagging Classifier Accuracy: 0.7768832662449684\n"
     ]
    }
   ],
   "source": [
    "bagging_classifier = BaggingClassifier(base_estimator=DecisionTreeClassifier(), n_estimators=10)\n",
    "bagging_classifier.fit(X_train, Y_train)\n",
    "bagging_classifier_pred = bagging_classifier.predict(X_test)\n",
    "bagging_classifier_score = accuracy_score(Y_test, bagging_classifier_pred)\n",
    "print(\"Bagging Classifier Accuracy:\", bagging_classifier_score)"
   ]
  },
  {
   "cell_type": "code",
   "execution_count": 26,
   "metadata": {},
   "outputs": [
    {
     "name": "stdout",
     "output_type": "stream",
     "text": [
      "[LightGBM] [Info] Number of positive: 3525, number of negative: 3429\n",
      "[LightGBM] [Info] Auto-choosing row-wise multi-threading, the overhead of testing was 0.000495 seconds.\n",
      "You can set `force_row_wise=true` to remove the overhead.\n",
      "And if memory is not enough, you can set `force_col_wise=true`.\n",
      "[LightGBM] [Info] Total Bins 1364\n",
      "[LightGBM] [Info] Number of data points in the train set: 6954, number of used features: 10\n",
      "[LightGBM] [Info] [binary:BoostFromScore]: pavg=0.506903 -> initscore=0.027612\n",
      "[LightGBM] [Info] Start training from score 0.027612\n",
      "LightGBM Classifier Accuracy: 0.7837837837837838\n"
     ]
    }
   ],
   "source": [
    "lgbm_classifier = LGBMClassifier()\n",
    "lgbm_classifier.fit(X_train, Y_train)\n",
    "lgbm_classifier_pred = lgbm_classifier.predict(X_test)\n",
    "lgbm_classifier_score = accuracy_score(Y_test, lgbm_classifier_pred)\n",
    "print(\"LightGBM Classifier Accuracy:\", lgbm_classifier_score)"
   ]
  },
  {
   "cell_type": "code",
   "execution_count": 27,
   "metadata": {},
   "outputs": [
    {
     "name": "stdout",
     "output_type": "stream",
     "text": [
      "SVM Classifier Accuracy: 0.7786083956296722\n"
     ]
    }
   ],
   "source": [
    "svm_classifier = SVC()\n",
    "svm_classifier.fit(X_train, Y_train)\n",
    "svm_classifier_pred = svm_classifier.predict(X_test)\n",
    "svm_classifier_score = accuracy_score(Y_test, svm_classifier_pred)\n",
    "print(\"SVM Classifier Accuracy:\", svm_classifier_score)"
   ]
  },
  {
   "cell_type": "code",
   "execution_count": 28,
   "metadata": {},
   "outputs": [
    {
     "name": "stderr",
     "output_type": "stream",
     "text": [
      "[I 2023-12-23 14:27:51,814] A new study created in memory with name: no-name-8e93ffdc-446d-450d-be2c-c18563fc461a\n",
      "[I 2023-12-23 14:27:53,463] Trial 0 finished with value: 0.7722829212190915 and parameters: {'lambda': 8.070085309026277, 'alpha': 2.2367592073650644, 'colsample_bytree': 0.16811284805329707, 'subsample': 0.4220173113290896, 'learning_rate': 0.07123465579134933, 'n_estimators': 2813, 'max_depth': 6, 'min_child_weight': 4, 'num_parallel_tree': 1}. Best is trial 0 with value: 0.7722829212190915.\n",
      "[I 2023-12-23 14:27:53,789] Trial 1 finished with value: 0.777458309373203 and parameters: {'lambda': 7.488428252736844, 'alpha': 2.2855674516849867, 'colsample_bytree': 0.3030418495436804, 'subsample': 0.49450037284693726, 'learning_rate': 0.043630199250113806, 'n_estimators': 764, 'max_depth': 2, 'min_child_weight': 10, 'num_parallel_tree': 1}. Best is trial 1 with value: 0.777458309373203.\n",
      "[I 2023-12-23 14:27:55,807] Trial 2 finished with value: 0.7768832662449684 and parameters: {'lambda': 5.283374220996465, 'alpha': 1.4173269412418343, 'colsample_bytree': 0.42235821716955313, 'subsample': 0.7375512880133108, 'learning_rate': 0.0016059776843224038, 'n_estimators': 2141, 'max_depth': 7, 'min_child_weight': 9, 'num_parallel_tree': 1}. Best is trial 1 with value: 0.777458309373203.\n",
      "[I 2023-12-23 14:27:56,364] Trial 3 finished with value: 0.7878090856814262 and parameters: {'lambda': 7.200311248979631, 'alpha': 0.5326867854937567, 'colsample_bytree': 0.900109176708429, 'subsample': 0.6141225168019782, 'learning_rate': 0.02827067101721943, 'n_estimators': 696, 'max_depth': 5, 'min_child_weight': 3, 'num_parallel_tree': 1}. Best is trial 3 with value: 0.7878090856814262.\n",
      "[I 2023-12-23 14:27:58,659] Trial 4 finished with value: 0.7849338700402531 and parameters: {'lambda': 2.55149746782928, 'alpha': 5.249361827044144, 'colsample_bytree': 0.885025720636875, 'subsample': 0.3414675318658864, 'learning_rate': 0.09443065331471207, 'n_estimators': 2377, 'max_depth': 9, 'min_child_weight': 5, 'num_parallel_tree': 1}. Best is trial 3 with value: 0.7878090856814262.\n",
      "[I 2023-12-23 14:27:59,702] Trial 5 finished with value: 0.7837837837837838 and parameters: {'lambda': 7.5748812842427435, 'alpha': 3.744438654236164, 'colsample_bytree': 0.46631959709766535, 'subsample': 0.5306154725846915, 'learning_rate': 0.07063575272257344, 'n_estimators': 1988, 'max_depth': 3, 'min_child_weight': 4, 'num_parallel_tree': 1}. Best is trial 3 with value: 0.7878090856814262.\n",
      "[I 2023-12-23 14:28:01,530] Trial 6 finished with value: 0.7740080506037953 and parameters: {'lambda': 6.967212432491719, 'alpha': 0.7029422083584058, 'colsample_bytree': 0.6497572623818536, 'subsample': 0.9267307843672401, 'learning_rate': 0.06091591168576586, 'n_estimators': 1829, 'max_depth': 7, 'min_child_weight': 7, 'num_parallel_tree': 1}. Best is trial 3 with value: 0.7878090856814262.\n",
      "[I 2023-12-23 14:28:01,661] Trial 7 finished with value: 0.7481311098332375 and parameters: {'lambda': 8.533145155943602, 'alpha': 0.85070061354651, 'colsample_bytree': 0.9469165461236119, 'subsample': 0.36506425246946606, 'learning_rate': 0.004969128864731704, 'n_estimators': 303, 'max_depth': 2, 'min_child_weight': 9, 'num_parallel_tree': 1}. Best is trial 3 with value: 0.7878090856814262.\n",
      "[I 2023-12-23 14:28:04,489] Trial 8 finished with value: 0.780333525014376 and parameters: {'lambda': 1.6923429292549963, 'alpha': 4.228808743461582, 'colsample_bytree': 0.9709628677557485, 'subsample': 0.872492405781627, 'learning_rate': 0.09215686291680794, 'n_estimators': 2736, 'max_depth': 7, 'min_child_weight': 2, 'num_parallel_tree': 1}. Best is trial 3 with value: 0.7878090856814262.\n",
      "[I 2023-12-23 14:28:05,478] Trial 9 finished with value: 0.7786083956296722 and parameters: {'lambda': 3.2536620215266354, 'alpha': 0.2329302006307199, 'colsample_bytree': 0.17220036394830057, 'subsample': 0.9276440398909152, 'learning_rate': 0.02282072413383059, 'n_estimators': 2374, 'max_depth': 2, 'min_child_weight': 4, 'num_parallel_tree': 1}. Best is trial 3 with value: 0.7878090856814262.\n",
      "[I 2023-12-23 14:28:06,362] Trial 10 finished with value: 0.780333525014376 and parameters: {'lambda': 5.029909396910787, 'alpha': 8.243450991085824, 'colsample_bytree': 0.7021224312271683, 'subsample': 0.20026993378747104, 'learning_rate': 0.034808382302923824, 'n_estimators': 1121, 'max_depth': 5, 'min_child_weight': 1, 'num_parallel_tree': 1}. Best is trial 3 with value: 0.7878090856814262.\n",
      "[I 2023-12-23 14:28:07,657] Trial 11 finished with value: 0.7814836112708453 and parameters: {'lambda': 0.031736296960857224, 'alpha': 7.055235935484715, 'colsample_bytree': 0.7948467698317506, 'subsample': 0.6748192418794065, 'learning_rate': 0.09569344208452268, 'n_estimators': 1247, 'max_depth': 9, 'min_child_weight': 6, 'num_parallel_tree': 1}. Best is trial 3 with value: 0.7878090856814262.\n",
      "[I 2023-12-23 14:28:07,797] Trial 12 finished with value: 0.7837837837837838 and parameters: {'lambda': 2.9883364894577262, 'alpha': 6.182595252499972, 'colsample_bytree': 0.8309869234854523, 'subsample': 0.2655311928428801, 'learning_rate': 0.023007059768788245, 'n_estimators': 149, 'max_depth': 5, 'min_child_weight': 3, 'num_parallel_tree': 1}. Best is trial 3 with value: 0.7878090856814262.\n",
      "[I 2023-12-23 14:28:09,519] Trial 13 finished with value: 0.7814836112708453 and parameters: {'lambda': 9.713065852267725, 'alpha': 5.539959048590925, 'colsample_bytree': 0.8423966461186689, 'subsample': 0.6612812782142774, 'learning_rate': 0.052371591469321424, 'n_estimators': 1478, 'max_depth': 9, 'min_child_weight': 6, 'num_parallel_tree': 1}. Best is trial 3 with value: 0.7878090856814262.\n",
      "[I 2023-12-23 14:28:10,293] Trial 14 finished with value: 0.7780333525014376 and parameters: {'lambda': 5.880831169823713, 'alpha': 9.724014369021253, 'colsample_bytree': 0.6217724762521382, 'subsample': 0.7975739873172412, 'learning_rate': 0.0818282402031541, 'n_estimators': 819, 'max_depth': 10, 'min_child_weight': 5, 'num_parallel_tree': 1}. Best is trial 3 with value: 0.7878090856814262.\n",
      "[I 2023-12-23 14:28:13,059] Trial 15 finished with value: 0.7866589994249569 and parameters: {'lambda': 3.4966316213567428, 'alpha': 3.634553131465081, 'colsample_bytree': 0.7583613592472724, 'subsample': 0.5853675307799249, 'learning_rate': 0.02507285734147958, 'n_estimators': 2450, 'max_depth': 8, 'min_child_weight': 1, 'num_parallel_tree': 1}. Best is trial 3 with value: 0.7878090856814262.\n",
      "[I 2023-12-23 14:28:13,809] Trial 16 finished with value: 0.7837837837837838 and parameters: {'lambda': 4.057691289546534, 'alpha': 3.389316932438785, 'colsample_bytree': 0.7098016441686705, 'subsample': 0.5578129161237675, 'learning_rate': 0.01589963533936234, 'n_estimators': 608, 'max_depth': 8, 'min_child_weight': 1, 'num_parallel_tree': 1}. Best is trial 3 with value: 0.7878090856814262.\n",
      "[I 2023-12-23 14:28:15,667] Trial 17 finished with value: 0.7843588269120184 and parameters: {'lambda': 6.564704264026764, 'alpha': 2.535386054858818, 'colsample_bytree': 0.5242970827504723, 'subsample': 0.625492485774829, 'learning_rate': 0.03639641457729824, 'n_estimators': 1647, 'max_depth': 8, 'min_child_weight': 2, 'num_parallel_tree': 1}. Best is trial 3 with value: 0.7878090856814262.\n",
      "[I 2023-12-23 14:28:17,980] Trial 18 finished with value: 0.7837837837837838 and parameters: {'lambda': 4.368419891455007, 'alpha': 2.960019191954295, 'colsample_bytree': 0.7656580115747469, 'subsample': 0.7637731822169551, 'learning_rate': 0.014365546936040492, 'n_estimators': 2982, 'max_depth': 5, 'min_child_weight': 2, 'num_parallel_tree': 1}. Best is trial 3 with value: 0.7878090856814262.\n",
      "[I 2023-12-23 14:28:18,724] Trial 19 finished with value: 0.7855089131684876 and parameters: {'lambda': 0.9016362657627273, 'alpha': 1.466508516853583, 'colsample_bytree': 0.9181803020883448, 'subsample': 0.46255043585836714, 'learning_rate': 0.028082584781341655, 'n_estimators': 1107, 'max_depth': 4, 'min_child_weight': 3, 'num_parallel_tree': 1}. Best is trial 3 with value: 0.7878090856814262.\n",
      "[I 2023-12-23 14:28:19,285] Trial 20 finished with value: 0.7843588269120184 and parameters: {'lambda': 9.480414403522596, 'alpha': 4.385803534874539, 'colsample_bytree': 0.5894483961564421, 'subsample': 0.5728341866469013, 'learning_rate': 0.04982215546818363, 'n_estimators': 490, 'max_depth': 8, 'min_child_weight': 1, 'num_parallel_tree': 1}. Best is trial 3 with value: 0.7878090856814262.\n",
      "[I 2023-12-23 14:28:20,033] Trial 21 finished with value: 0.7866589994249569 and parameters: {'lambda': 0.7423209975234175, 'alpha': 1.3029036718681644, 'colsample_bytree': 0.9941621068678513, 'subsample': 0.44277114362041087, 'learning_rate': 0.03103369948039437, 'n_estimators': 1120, 'max_depth': 4, 'min_child_weight': 3, 'num_parallel_tree': 1}. Best is trial 3 with value: 0.7878090856814262.\n",
      "[I 2023-12-23 14:28:20,629] Trial 22 finished with value: 0.7837837837837838 and parameters: {'lambda': 1.4654748724717406, 'alpha': 0.10228519761191146, 'colsample_bytree': 0.9860305292911108, 'subsample': 0.39715484598573497, 'learning_rate': 0.03526300530133035, 'n_estimators': 918, 'max_depth': 4, 'min_child_weight': 3, 'num_parallel_tree': 1}. Best is trial 3 with value: 0.7878090856814262.\n",
      "[I 2023-12-23 14:28:21,569] Trial 23 finished with value: 0.7860839562967222 and parameters: {'lambda': 0.27541073660907145, 'alpha': 1.430494473729191, 'colsample_bytree': 0.901123073102211, 'subsample': 0.6017881287723345, 'learning_rate': 0.012517950460667143, 'n_estimators': 1469, 'max_depth': 4, 'min_child_weight': 2, 'num_parallel_tree': 1}. Best is trial 3 with value: 0.7878090856814262.\n",
      "[I 2023-12-23 14:28:21,831] Trial 24 finished with value: 0.7826336975273146 and parameters: {'lambda': 2.3503166745399717, 'alpha': 2.012016893738723, 'colsample_bytree': 0.7610498052881127, 'subsample': 0.7078911800586319, 'learning_rate': 0.028774992754888245, 'n_estimators': 471, 'max_depth': 3, 'min_child_weight': 3, 'num_parallel_tree': 1}. Best is trial 3 with value: 0.7878090856814262.\n",
      "[I 2023-12-23 14:28:23,667] Trial 25 finished with value: 0.7860839562967222 and parameters: {'lambda': 4.029204183951171, 'alpha': 3.3421227943962224, 'colsample_bytree': 0.85647983571312, 'subsample': 0.4664688253573215, 'learning_rate': 0.040925473670141016, 'n_estimators': 1311, 'max_depth': 10, 'min_child_weight': 1, 'num_parallel_tree': 1}. Best is trial 3 with value: 0.7878090856814262.\n",
      "[I 2023-12-23 14:28:24,509] Trial 26 finished with value: 0.78953421506613 and parameters: {'lambda': 5.676235837642179, 'alpha': 0.9273483949223601, 'colsample_bytree': 0.6955338110238918, 'subsample': 0.3112165989891113, 'learning_rate': 0.023133919116284506, 'n_estimators': 921, 'max_depth': 6, 'min_child_weight': 4, 'num_parallel_tree': 1}. Best is trial 26 with value: 0.78953421506613.\n",
      "[I 2023-12-23 14:28:25,997] Trial 27 finished with value: 0.7809085681426107 and parameters: {'lambda': 5.734915966757226, 'alpha': 6.914196675240647, 'colsample_bytree': 0.6943245243077885, 'subsample': 0.8207677582346826, 'learning_rate': 0.021712166381531728, 'n_estimators': 1722, 'max_depth': 6, 'min_child_weight': 7, 'num_parallel_tree': 1}. Best is trial 26 with value: 0.78953421506613.\n",
      "[I 2023-12-23 14:28:26,776] Trial 28 finished with value: 0.7797584818861415 and parameters: {'lambda': 6.610770648268274, 'alpha': 4.388475486134669, 'colsample_bytree': 0.5266867334384, 'subsample': 0.273818092923795, 'learning_rate': 0.052053654086752624, 'n_estimators': 932, 'max_depth': 6, 'min_child_weight': 4, 'num_parallel_tree': 1}. Best is trial 26 with value: 0.78953421506613.\n",
      "[I 2023-12-23 14:28:29,142] Trial 29 finished with value: 0.7832087406555491 and parameters: {'lambda': 8.57983203072464, 'alpha': 2.111576946522905, 'colsample_bytree': 0.7489900611753408, 'subsample': 0.5215899349222923, 'learning_rate': 0.008277154139072287, 'n_estimators': 2476, 'max_depth': 6, 'min_child_weight': 2, 'num_parallel_tree': 1}. Best is trial 26 with value: 0.78953421506613.\n",
      "[I 2023-12-23 14:28:31,190] Trial 30 finished with value: 0.7860839562967222 and parameters: {'lambda': 5.916800228799741, 'alpha': 0.07975919322331815, 'colsample_bytree': 0.6606213624399361, 'subsample': 0.6240335715839277, 'learning_rate': 0.018314909350279473, 'n_estimators': 2729, 'max_depth': 5, 'min_child_weight': 5, 'num_parallel_tree': 1}. Best is trial 26 with value: 0.78953421506613.\n",
      "[I 2023-12-23 14:28:31,661] Trial 31 finished with value: 0.78205865439908 and parameters: {'lambda': 3.602282870878331, 'alpha': 1.0932832501831424, 'colsample_bytree': 0.9906632076810213, 'subsample': 0.40974836264697456, 'learning_rate': 0.028627522999107875, 'n_estimators': 677, 'max_depth': 4, 'min_child_weight': 3, 'num_parallel_tree': 1}. Best is trial 26 with value: 0.78953421506613.\n",
      "[I 2023-12-23 14:28:32,796] Trial 32 finished with value: 0.7843588269120184 and parameters: {'lambda': 4.4304394806600795, 'alpha': 2.668032596797588, 'colsample_bytree': 0.832656928645686, 'subsample': 0.3103395970996849, 'learning_rate': 0.04548310771913442, 'n_estimators': 1055, 'max_depth': 8, 'min_child_weight': 4, 'num_parallel_tree': 1}. Best is trial 26 with value: 0.78953421506613.\n",
      "[I 2023-12-23 14:28:33,985] Trial 33 finished with value: 0.7849338700402531 and parameters: {'lambda': 7.057723419873641, 'alpha': 1.7796946946358476, 'colsample_bytree': 0.9277388575346622, 'subsample': 0.4327018569493026, 'learning_rate': 0.02691946633022837, 'n_estimators': 1304, 'max_depth': 6, 'min_child_weight': 4, 'num_parallel_tree': 1}. Best is trial 26 with value: 0.78953421506613.\n",
      "[I 2023-12-23 14:28:34,502] Trial 34 finished with value: 0.7866589994249569 and parameters: {'lambda': 8.13814768839004, 'alpha': 0.5601800235395769, 'colsample_bytree': 0.8107535753962866, 'subsample': 0.4907666658989962, 'learning_rate': 0.009034441081083769, 'n_estimators': 780, 'max_depth': 4, 'min_child_weight': 3, 'num_parallel_tree': 1}. Best is trial 26 with value: 0.78953421506613.\n",
      "[I 2023-12-23 14:28:34,839] Trial 35 finished with value: 0.7832087406555491 and parameters: {'lambda': 5.415878786903588, 'alpha': 1.0849003928912984, 'colsample_bytree': 0.35818745952597897, 'subsample': 0.35661628081583574, 'learning_rate': 0.040778866287688016, 'n_estimators': 441, 'max_depth': 5, 'min_child_weight': 5, 'num_parallel_tree': 1}. Best is trial 26 with value: 0.78953421506613.\n",
      "[I 2023-12-23 14:28:37,317] Trial 36 finished with value: 0.780333525014376 and parameters: {'lambda': 6.233560168759643, 'alpha': 1.8183182896738037, 'colsample_bytree': 0.8730561138364362, 'subsample': 0.5324317866393568, 'learning_rate': 0.031170415746171867, 'n_estimators': 2088, 'max_depth': 8, 'min_child_weight': 2, 'num_parallel_tree': 1}. Best is trial 26 with value: 0.78953421506613.\n",
      "[I 2023-12-23 14:28:38,301] Trial 37 finished with value: 0.7837837837837838 and parameters: {'lambda': 7.621485445929761, 'alpha': 0.7017352424982866, 'colsample_bytree': 0.5860222762949627, 'subsample': 0.9936634498076088, 'learning_rate': 0.003458880716414821, 'n_estimators': 1909, 'max_depth': 3, 'min_child_weight': 4, 'num_parallel_tree': 1}. Best is trial 26 with value: 0.78953421506613.\n",
      "[I 2023-12-23 14:28:39,282] Trial 38 finished with value: 0.7860839562967222 and parameters: {'lambda': 2.266869929901677, 'alpha': 2.955743931716281, 'colsample_bytree': 0.9005106476522973, 'subsample': 0.21569777008712837, 'learning_rate': 0.057603782429082526, 'n_estimators': 894, 'max_depth': 6, 'min_child_weight': 1, 'num_parallel_tree': 1}. Best is trial 26 with value: 0.78953421506613.\n",
      "[I 2023-12-23 14:28:39,607] Trial 39 finished with value: 0.7722829212190915 and parameters: {'lambda': 4.701491918527753, 'alpha': 3.8035802040618014, 'colsample_bytree': 0.20464593908066564, 'subsample': 0.3343859938739582, 'learning_rate': 0.01872015058526188, 'n_estimators': 267, 'max_depth': 7, 'min_child_weight': 10, 'num_parallel_tree': 1}. Best is trial 26 with value: 0.78953421506613.\n",
      "[I 2023-12-23 14:28:40,552] Trial 40 finished with value: 0.7837837837837838 and parameters: {'lambda': 0.9002723676231632, 'alpha': 4.922158734648178, 'colsample_bytree': 0.9518886544332011, 'subsample': 0.38269054528759083, 'learning_rate': 0.044775781786157424, 'n_estimators': 2242, 'max_depth': 2, 'min_child_weight': 8, 'num_parallel_tree': 1}. Best is trial 26 with value: 0.78953421506613.\n",
      "[I 2023-12-23 14:28:41,024] Trial 41 finished with value: 0.7860839562967222 and parameters: {'lambda': 8.068407775017677, 'alpha': 0.6458191258432298, 'colsample_bytree': 0.8071897640307126, 'subsample': 0.48827980953220423, 'learning_rate': 0.008912994815692885, 'n_estimators': 708, 'max_depth': 4, 'min_child_weight': 3, 'num_parallel_tree': 1}. Best is trial 26 with value: 0.78953421506613.\n",
      "[I 2023-12-23 14:28:41,682] Trial 42 finished with value: 0.7855089131684876 and parameters: {'lambda': 8.778365539402156, 'alpha': 0.4825204494206552, 'colsample_bytree': 0.7476866828003146, 'subsample': 0.4327446304135352, 'learning_rate': 0.010358606769324348, 'n_estimators': 1014, 'max_depth': 4, 'min_child_weight': 3, 'num_parallel_tree': 1}. Best is trial 26 with value: 0.78953421506613.\n",
      "[I 2023-12-23 14:28:42,451] Trial 43 finished with value: 0.7849338700402531 and parameters: {'lambda': 7.334095062426793, 'alpha': 1.1484542540304952, 'colsample_bytree': 0.7830993162151894, 'subsample': 0.5579048851614778, 'learning_rate': 0.02352580697260798, 'n_estimators': 1202, 'max_depth': 4, 'min_child_weight': 5, 'num_parallel_tree': 1}. Best is trial 26 with value: 0.78953421506613.\n",
      "[I 2023-12-23 14:28:42,980] Trial 44 finished with value: 0.7860839562967222 and parameters: {'lambda': 8.001878716585772, 'alpha': 1.4069373116733175, 'colsample_bytree': 0.8741153017043493, 'subsample': 0.4959361416647884, 'learning_rate': 0.0036434718805141778, 'n_estimators': 791, 'max_depth': 4, 'min_child_weight': 2, 'num_parallel_tree': 1}. Best is trial 26 with value: 0.78953421506613.\n",
      "[I 2023-12-23 14:28:43,751] Trial 45 finished with value: 0.7855089131684876 and parameters: {'lambda': 9.218573483881537, 'alpha': 0.025692728127311826, 'colsample_bytree': 0.7054878670453383, 'subsample': 0.6773108138106786, 'learning_rate': 0.032821005646891145, 'n_estimators': 610, 'max_depth': 9, 'min_child_weight': 4, 'num_parallel_tree': 1}. Best is trial 26 with value: 0.78953421506613.\n",
      "[I 2023-12-23 14:28:44,861] Trial 46 finished with value: 0.7786083956296722 and parameters: {'lambda': 2.9416842357988138, 'alpha': 0.6460765887776067, 'colsample_bytree': 0.9537965415669254, 'subsample': 0.3096695434037923, 'learning_rate': 0.0005488547919923446, 'n_estimators': 1463, 'max_depth': 5, 'min_child_weight': 6, 'num_parallel_tree': 1}. Best is trial 26 with value: 0.78953421506613.\n",
      "[I 2023-12-23 14:28:46,014] Trial 47 finished with value: 0.7832087406555491 and parameters: {'lambda': 6.547477151072442, 'alpha': 2.3745817649785397, 'colsample_bytree': 0.8136571811350574, 'subsample': 0.5885998156427404, 'learning_rate': 0.03858529867834705, 'n_estimators': 824, 'max_depth': 10, 'min_child_weight': 3, 'num_parallel_tree': 1}. Best is trial 26 with value: 0.78953421506613.\n",
      "[I 2023-12-23 14:28:46,370] Trial 48 finished with value: 0.7843588269120184 and parameters: {'lambda': 7.755378199771847, 'alpha': 1.7856432967836064, 'colsample_bytree': 0.6486537222149302, 'subsample': 0.6376594527366838, 'learning_rate': 0.018191088608935528, 'n_estimators': 324, 'max_depth': 7, 'min_child_weight': 2, 'num_parallel_tree': 1}. Best is trial 26 with value: 0.78953421506613.\n",
      "[I 2023-12-23 14:28:47,430] Trial 49 finished with value: 0.7780333525014376 and parameters: {'lambda': 5.38808323837126, 'alpha': 8.623802665527524, 'colsample_bytree': 0.4531314448335571, 'subsample': 0.7200052547158987, 'learning_rate': 0.02361518023562928, 'n_estimators': 2589, 'max_depth': 2, 'min_child_weight': 4, 'num_parallel_tree': 1}. Best is trial 26 with value: 0.78953421506613.\n",
      "[I 2023-12-23 14:28:49,165] Trial 50 finished with value: 0.78953421506613 and parameters: {'lambda': 4.902723833786696, 'alpha': 0.38564172775199124, 'colsample_bytree': 0.8604273103582422, 'subsample': 0.5166352501912678, 'learning_rate': 0.007150350571135673, 'n_estimators': 1364, 'max_depth': 8, 'min_child_weight': 1, 'num_parallel_tree': 1}. Best is trial 26 with value: 0.78953421506613.\n",
      "[I 2023-12-23 14:28:50,706] Trial 51 finished with value: 0.7878090856814262 and parameters: {'lambda': 4.933802696704168, 'alpha': 0.5094708817943868, 'colsample_bytree': 0.8547441704118902, 'subsample': 0.5186773302015188, 'learning_rate': 0.01352687849838373, 'n_estimators': 1176, 'max_depth': 8, 'min_child_weight': 1, 'num_parallel_tree': 1}. Best is trial 26 with value: 0.78953421506613.\n",
      "[I 2023-12-23 14:28:52,787] Trial 52 finished with value: 0.7849338700402531 and parameters: {'lambda': 4.848759994425828, 'alpha': 0.3442958794910709, 'colsample_bytree': 0.8722972782860485, 'subsample': 0.5300785228822017, 'learning_rate': 0.01477833129517342, 'n_estimators': 1613, 'max_depth': 8, 'min_child_weight': 1, 'num_parallel_tree': 1}. Best is trial 26 with value: 0.78953421506613.\n",
      "[I 2023-12-23 14:28:54,411] Trial 53 finished with value: 0.7878090856814262 and parameters: {'lambda': 5.15894419292748, 'alpha': 0.8849454565542517, 'colsample_bytree': 0.9287080182494466, 'subsample': 0.4518475124285248, 'learning_rate': 0.02038558445720927, 'n_estimators': 1208, 'max_depth': 8, 'min_child_weight': 1, 'num_parallel_tree': 1}. Best is trial 26 with value: 0.78953421506613.\n",
      "[I 2023-12-23 14:28:56,250] Trial 54 finished with value: 0.7814836112708453 and parameters: {'lambda': 3.4672394667685857, 'alpha': 0.8868284965816966, 'colsample_bytree': 0.9309281597699115, 'subsample': 0.5916929164335699, 'learning_rate': 0.07435218806080024, 'n_estimators': 1381, 'max_depth': 8, 'min_child_weight': 1, 'num_parallel_tree': 1}. Best is trial 26 with value: 0.78953421506613.\n",
      "[I 2023-12-23 14:28:58,208] Trial 55 finished with value: 0.7814836112708453 and parameters: {'lambda': 5.161840695833644, 'alpha': 5.717084402535549, 'colsample_bytree': 0.7293718139782133, 'subsample': 0.6622275075416485, 'learning_rate': 0.020487248185771457, 'n_estimators': 1768, 'max_depth': 8, 'min_child_weight': 1, 'num_parallel_tree': 1}. Best is trial 26 with value: 0.78953421506613.\n",
      "[I 2023-12-23 14:28:59,693] Trial 56 finished with value: 0.7872340425531915 and parameters: {'lambda': 4.260744229103345, 'alpha': 0.978226930747537, 'colsample_bytree': 0.7790339036484312, 'subsample': 0.514229481305991, 'learning_rate': 0.0063837754335143646, 'n_estimators': 1206, 'max_depth': 8, 'min_child_weight': 1, 'num_parallel_tree': 1}. Best is trial 26 with value: 0.78953421506613.\n",
      "[I 2023-12-23 14:29:01,138] Trial 57 finished with value: 0.7883841288096607 and parameters: {'lambda': 4.012840141183129, 'alpha': 1.5599970950994801, 'colsample_bytree': 0.8346113940185639, 'subsample': 0.5186280895001442, 'learning_rate': 0.006094321087258863, 'n_estimators': 1195, 'max_depth': 8, 'min_child_weight': 2, 'num_parallel_tree': 1}. Best is trial 26 with value: 0.78953421506613.\n",
      "[I 2023-12-23 14:29:02,324] Trial 58 finished with value: 0.7906843013225991 and parameters: {'lambda': 3.8034665709365347, 'alpha': 1.7187025557024769, 'colsample_bytree': 0.8501287598798862, 'subsample': 0.45191522691823655, 'learning_rate': 0.014611740195943971, 'n_estimators': 990, 'max_depth': 8, 'min_child_weight': 2, 'num_parallel_tree': 1}. Best is trial 58 with value: 0.7906843013225991.\n",
      "[I 2023-12-23 14:29:03,539] Trial 59 finished with value: 0.7912593444508338 and parameters: {'lambda': 3.699552278775611, 'alpha': 1.6752521498236774, 'colsample_bytree': 0.8476243151869602, 'subsample': 0.5570766719377115, 'learning_rate': 0.01345445944656374, 'n_estimators': 991, 'max_depth': 8, 'min_child_weight': 2, 'num_parallel_tree': 1}. Best is trial 59 with value: 0.7912593444508338.\n",
      "[I 2023-12-23 14:29:04,818] Trial 60 finished with value: 0.7866589994249569 and parameters: {'lambda': 3.8365208984497037, 'alpha': 2.2421159505502253, 'colsample_bytree': 0.8945189953422499, 'subsample': 0.5538867123119697, 'learning_rate': 0.010925217609097211, 'n_estimators': 1000, 'max_depth': 8, 'min_child_weight': 2, 'num_parallel_tree': 1}. Best is trial 59 with value: 0.7912593444508338.\n",
      "[I 2023-12-23 14:29:06,656] Trial 61 finished with value: 0.78953421506613 and parameters: {'lambda': 4.658719881994889, 'alpha': 1.6678854251235022, 'colsample_bytree': 0.8528486050789508, 'subsample': 0.482700680074172, 'learning_rate': 0.013164609882354973, 'n_estimators': 1406, 'max_depth': 8, 'min_child_weight': 2, 'num_parallel_tree': 1}. Best is trial 59 with value: 0.7912593444508338.\n",
      "[I 2023-12-23 14:29:08,463] Trial 62 finished with value: 0.7906843013225991 and parameters: {'lambda': 3.0293205991205356, 'alpha': 1.6504513136598522, 'colsample_bytree': 0.8253155047131132, 'subsample': 0.6121302459309886, 'learning_rate': 0.0056844590405313485, 'n_estimators': 1386, 'max_depth': 8, 'min_child_weight': 2, 'num_parallel_tree': 1}. Best is trial 59 with value: 0.7912593444508338.\n",
      "[I 2023-12-23 14:29:10,532] Trial 63 finished with value: 0.7889591719378953 and parameters: {'lambda': 3.0993309509053253, 'alpha': 1.5322284399490234, 'colsample_bytree': 0.8403730142702269, 'subsample': 0.4837772810940143, 'learning_rate': 0.006030362633147655, 'n_estimators': 1561, 'max_depth': 8, 'min_child_weight': 2, 'num_parallel_tree': 1}. Best is trial 59 with value: 0.7912593444508338.\n",
      "[I 2023-12-23 14:29:12,587] Trial 64 finished with value: 0.7866589994249569 and parameters: {'lambda': 2.825467890213921, 'alpha': 2.792344636546164, 'colsample_bytree': 0.7964737026712176, 'subsample': 0.471316655985345, 'learning_rate': 0.0013825215487980758, 'n_estimators': 1574, 'max_depth': 8, 'min_child_weight': 2, 'num_parallel_tree': 1}. Best is trial 59 with value: 0.7912593444508338.\n",
      "[I 2023-12-23 14:29:14,629] Trial 65 finished with value: 0.7826336975273146 and parameters: {'lambda': 3.333662295249114, 'alpha': 2.1349698694379042, 'colsample_bytree': 0.840609858131232, 'subsample': 0.4195864835080334, 'learning_rate': 0.015123114912779595, 'n_estimators': 1479, 'max_depth': 8, 'min_child_weight': 2, 'num_parallel_tree': 1}. Best is trial 59 with value: 0.7912593444508338.\n",
      "[I 2023-12-23 14:29:16,443] Trial 66 finished with value: 0.7832087406555491 and parameters: {'lambda': 2.574712195969058, 'alpha': 1.728176643848618, 'colsample_bytree': 0.6756813128188124, 'subsample': 0.5662822788122498, 'learning_rate': 0.005324000340688568, 'n_estimators': 1370, 'max_depth': 8, 'min_child_weight': 2, 'num_parallel_tree': 1}. Best is trial 59 with value: 0.7912593444508338.\n",
      "[I 2023-12-23 14:29:18,246] Trial 67 finished with value: 0.7883841288096607 and parameters: {'lambda': 1.8831043650552353, 'alpha': 2.420143419481665, 'colsample_bytree': 0.7316671016968009, 'subsample': 0.6117355753532717, 'learning_rate': 0.011976666118205255, 'n_estimators': 1310, 'max_depth': 8, 'min_child_weight': 2, 'num_parallel_tree': 1}. Best is trial 59 with value: 0.7912593444508338.\n",
      "[I 2023-12-23 14:29:20,447] Trial 68 finished with value: 0.7751581368602645 and parameters: {'lambda': 4.5656686702486775, 'alpha': 3.1840588703225716, 'colsample_bytree': 0.6238371519783718, 'subsample': 0.38768168070618814, 'learning_rate': 0.01717639852241236, 'n_estimators': 1802, 'max_depth': 8, 'min_child_weight': 3, 'num_parallel_tree': 1}. Best is trial 59 with value: 0.7912593444508338.\n",
      "[I 2023-12-23 14:29:22,328] Trial 69 finished with value: 0.7883841288096607 and parameters: {'lambda': 3.8028890870944645, 'alpha': 1.3024760169109149, 'colsample_bytree': 0.9004946180023348, 'subsample': 0.6388543447882838, 'learning_rate': 0.007746294992762827, 'n_estimators': 1648, 'max_depth': 6, 'min_child_weight': 1, 'num_parallel_tree': 1}. Best is trial 59 with value: 0.7912593444508338.\n",
      "[I 2023-12-23 14:29:23,013] Trial 70 finished with value: 0.7671075330649799 and parameters: {'lambda': 3.067912481730016, 'alpha': 1.9496899135306192, 'colsample_bytree': 0.8581189130174712, 'subsample': 0.24993219643135284, 'learning_rate': 0.00031724867043064764, 'n_estimators': 1076, 'max_depth': 3, 'min_child_weight': 2, 'num_parallel_tree': 1}. Best is trial 59 with value: 0.7912593444508338.\n",
      "[I 2023-12-23 14:29:24,942] Trial 71 finished with value: 0.7860839562967222 and parameters: {'lambda': 5.650526480909712, 'alpha': 1.6494187533882894, 'colsample_bytree': 0.8269580868990662, 'subsample': 0.47984658697657556, 'learning_rate': 0.0064861464046802415, 'n_estimators': 1407, 'max_depth': 8, 'min_child_weight': 2, 'num_parallel_tree': 1}. Best is trial 59 with value: 0.7912593444508338.\n",
      "[I 2023-12-23 14:29:26,197] Trial 72 finished with value: 0.7878090856814262 and parameters: {'lambda': 3.9022867320262056, 'alpha': 1.5320103031081054, 'colsample_bytree': 0.7904335541985901, 'subsample': 0.5487247019704565, 'learning_rate': 0.0038052581573927388, 'n_estimators': 920, 'max_depth': 8, 'min_child_weight': 2, 'num_parallel_tree': 1}. Best is trial 59 with value: 0.7912593444508338.\n",
      "[I 2023-12-23 14:29:28,232] Trial 73 finished with value: 0.7866589994249569 and parameters: {'lambda': 4.363812520511157, 'alpha': 1.1887185692197786, 'colsample_bytree': 0.8372800440272062, 'subsample': 0.5078084134776408, 'learning_rate': 0.011864658491650415, 'n_estimators': 1515, 'max_depth': 8, 'min_child_weight': 3, 'num_parallel_tree': 1}. Best is trial 59 with value: 0.7912593444508338.\n",
      "[I 2023-12-23 14:29:30,126] Trial 74 finished with value: 0.7768832662449684 and parameters: {'lambda': 4.143737796991738, 'alpha': 0.3128829858467581, 'colsample_bytree': 0.7718480358733694, 'subsample': 0.45530281402191686, 'learning_rate': 0.09874244013495127, 'n_estimators': 1263, 'max_depth': 9, 'min_child_weight': 2, 'num_parallel_tree': 1}. Best is trial 59 with value: 0.7912593444508338.\n",
      "[I 2023-12-23 14:29:31,788] Trial 75 finished with value: 0.7872340425531915 and parameters: {'lambda': 3.268580976203511, 'alpha': 2.583680551273835, 'colsample_bytree': 0.874392429563731, 'subsample': 0.5347894321495335, 'learning_rate': 0.01556468816332875, 'n_estimators': 1135, 'max_depth': 8, 'min_child_weight': 1, 'num_parallel_tree': 1}. Best is trial 59 with value: 0.7912593444508338.\n",
      "[I 2023-12-23 14:29:33,097] Trial 76 finished with value: 0.7889591719378953 and parameters: {'lambda': 3.63538215993807, 'alpha': 2.0092569184595725, 'colsample_bytree': 0.7283267654549432, 'subsample': 0.5738220867498162, 'learning_rate': 0.00922675282636639, 'n_estimators': 989, 'max_depth': 8, 'min_child_weight': 3, 'num_parallel_tree': 1}. Best is trial 59 with value: 0.7912593444508338.\n",
      "[I 2023-12-23 14:29:35,769] Trial 77 finished with value: 0.7849338700402531 and parameters: {'lambda': 1.841753001426195, 'alpha': 2.239322016620804, 'colsample_bytree': 0.7365427602173519, 'subsample': 0.6110581443265724, 'learning_rate': 0.009918072112078478, 'n_estimators': 1700, 'max_depth': 10, 'min_child_weight': 3, 'num_parallel_tree': 1}. Best is trial 59 with value: 0.7912593444508338.\n",
      "[I 2023-12-23 14:29:37,867] Trial 78 finished with value: 0.7837837837837838 and parameters: {'lambda': 2.722676309401272, 'alpha': 1.9259816358832569, 'colsample_bytree': 0.9696342427822685, 'subsample': 0.575043938682222, 'learning_rate': 0.025524064712574984, 'n_estimators': 1891, 'max_depth': 6, 'min_child_weight': 3, 'num_parallel_tree': 1}. Best is trial 59 with value: 0.7912593444508338.\n",
      "[I 2023-12-23 14:29:39,216] Trial 79 finished with value: 0.7832087406555491 and parameters: {'lambda': 2.275861434479941, 'alpha': 0.8450487584762333, 'colsample_bytree': 0.6873179396166991, 'subsample': 0.4985057115265277, 'learning_rate': 0.002783255075592782, 'n_estimators': 997, 'max_depth': 8, 'min_child_weight': 3, 'num_parallel_tree': 1}. Best is trial 59 with value: 0.7912593444508338.\n",
      "[I 2023-12-23 14:29:40,434] Trial 80 finished with value: 0.7883841288096607 and parameters: {'lambda': 3.6786256620244786, 'alpha': 1.3649859146721315, 'colsample_bytree': 0.8089810771467533, 'subsample': 0.6799431928547064, 'learning_rate': 0.013640483029275082, 'n_estimators': 845, 'max_depth': 8, 'min_child_weight': 2, 'num_parallel_tree': 1}. Best is trial 59 with value: 0.7912593444508338.\n",
      "[I 2023-12-23 14:29:41,985] Trial 81 finished with value: 0.7866589994249569 and parameters: {'lambda': 4.765722056431281, 'alpha': 1.580501617603908, 'colsample_bytree': 0.9064435045166321, 'subsample': 0.5435009973629514, 'learning_rate': 0.007243858963478324, 'n_estimators': 1106, 'max_depth': 8, 'min_child_weight': 2, 'num_parallel_tree': 1}. Best is trial 59 with value: 0.7912593444508338.\n",
      "[I 2023-12-23 14:29:43,862] Trial 82 finished with value: 0.7860839562967222 and parameters: {'lambda': 3.104945999137197, 'alpha': 1.1650246964256727, 'colsample_bytree': 0.8462110015882377, 'subsample': 0.4064223282768029, 'learning_rate': 0.005502294751391198, 'n_estimators': 1394, 'max_depth': 8, 'min_child_weight': 2, 'num_parallel_tree': 1}. Best is trial 59 with value: 0.7912593444508338.\n",
      "[I 2023-12-23 14:29:45,150] Trial 83 finished with value: 0.7832087406555491 and parameters: {'lambda': 4.081745240205817, 'alpha': 2.071954012346197, 'colsample_bytree': 0.8164509855481732, 'subsample': 0.3684979760209079, 'learning_rate': 0.010818078056586793, 'n_estimators': 983, 'max_depth': 8, 'min_child_weight': 3, 'num_parallel_tree': 1}. Best is trial 59 with value: 0.7912593444508338.\n",
      "[I 2023-12-23 14:29:46,038] Trial 84 finished with value: 0.7866589994249569 and parameters: {'lambda': 3.533572281837147, 'alpha': 1.5060967043049598, 'colsample_bytree': 0.759355539542398, 'subsample': 0.47193890679796097, 'learning_rate': 0.017222268802716288, 'n_estimators': 725, 'max_depth': 7, 'min_child_weight': 2, 'num_parallel_tree': 1}. Best is trial 59 with value: 0.7912593444508338.\n",
      "[I 2023-12-23 14:29:47,547] Trial 85 finished with value: 0.7837837837837838 and parameters: {'lambda': 4.5802478116702785, 'alpha': 2.799758528556792, 'colsample_bytree': 0.5737951708668109, 'subsample': 0.5767590280067978, 'learning_rate': 0.008717794646275426, 'n_estimators': 1304, 'max_depth': 8, 'min_child_weight': 9, 'num_parallel_tree': 1}. Best is trial 59 with value: 0.7912593444508338.\n",
      "[I 2023-12-23 14:29:48,883] Trial 86 finished with value: 0.7901092581943646 and parameters: {'lambda': 5.457951631314216, 'alpha': 0.31813160374156024, 'colsample_bytree': 0.7233600585916902, 'subsample': 0.5137224498649691, 'learning_rate': 0.003643184495250624, 'n_estimators': 1252, 'max_depth': 6, 'min_child_weight': 1, 'num_parallel_tree': 1}. Best is trial 59 with value: 0.7912593444508338.\n",
      "[I 2023-12-23 14:29:49,566] Trial 87 finished with value: 0.7872340425531915 and parameters: {'lambda': 6.2993261038647415, 'alpha': 0.2818802229589812, 'colsample_bytree': 0.7085071190032217, 'subsample': 0.6371173292148716, 'learning_rate': 0.002848457093614174, 'n_estimators': 610, 'max_depth': 6, 'min_child_weight': 1, 'num_parallel_tree': 1}. Best is trial 59 with value: 0.7912593444508338.\n",
      "[I 2023-12-23 14:29:51,160] Trial 88 finished with value: 0.7849338700402531 and parameters: {'lambda': 5.626373078680657, 'alpha': 0.7297351439740757, 'colsample_bytree': 0.629059024283069, 'subsample': 0.4449424359747055, 'learning_rate': 0.00011321816766585429, 'n_estimators': 1540, 'max_depth': 6, 'min_child_weight': 1, 'num_parallel_tree': 1}. Best is trial 59 with value: 0.7912593444508338.\n",
      "[I 2023-12-23 14:29:52,086] Trial 89 finished with value: 0.7740080506037953 and parameters: {'lambda': 5.451608358906808, 'alpha': 0.0713618676382165, 'colsample_bytree': 0.12354058013167296, 'subsample': 0.4994847423710115, 'learning_rate': 0.013090040817259034, 'n_estimators': 1262, 'max_depth': 6, 'min_child_weight': 1, 'num_parallel_tree': 1}. Best is trial 59 with value: 0.7912593444508338.\n",
      "[I 2023-12-23 14:29:52,527] Trial 90 finished with value: 0.780333525014376 and parameters: {'lambda': 6.080622600165772, 'alpha': 0.4624420939786378, 'colsample_bytree': 0.7879321318501759, 'subsample': 0.5983063291174198, 'learning_rate': 0.09043165021372174, 'n_estimators': 869, 'max_depth': 2, 'min_child_weight': 4, 'num_parallel_tree': 1}. Best is trial 59 with value: 0.7912593444508338.\n",
      "[I 2023-12-23 14:29:54,101] Trial 91 finished with value: 0.78953421506613 and parameters: {'lambda': 5.077958354279984, 'alpha': 1.2099464028744453, 'colsample_bytree': 0.8802181888261743, 'subsample': 0.5193667844049564, 'learning_rate': 0.005178811111429569, 'n_estimators': 1152, 'max_depth': 8, 'min_child_weight': 2, 'num_parallel_tree': 1}. Best is trial 59 with value: 0.7912593444508338.\n",
      "[I 2023-12-23 14:29:54,773] Trial 92 finished with value: 0.78205865439908 and parameters: {'lambda': 5.047368494411188, 'alpha': 1.0888552221255623, 'colsample_bytree': 0.8826470462316739, 'subsample': 0.5436572362454967, 'learning_rate': 0.0045641044138932125, 'n_estimators': 1051, 'max_depth': 3, 'min_child_weight': 1, 'num_parallel_tree': 1}. Best is trial 59 with value: 0.7912593444508338.\n",
      "[I 2023-12-23 14:29:56,060] Trial 93 finished with value: 0.7843588269120184 and parameters: {'lambda': 5.859404745402672, 'alpha': 0.9890900581898465, 'colsample_bytree': 0.9411989313821449, 'subsample': 0.4331951534706794, 'learning_rate': 0.020231095884584778, 'n_estimators': 1159, 'max_depth': 6, 'min_child_weight': 2, 'num_parallel_tree': 1}. Best is trial 59 with value: 0.7912593444508338.\n",
      "[I 2023-12-23 14:29:58,469] Trial 94 finished with value: 0.7878090856814262 and parameters: {'lambda': 4.428920516963149, 'alpha': 1.2888640955667974, 'colsample_bytree': 0.9136839147064968, 'subsample': 0.4846403163531153, 'learning_rate': 0.00926197352170485, 'n_estimators': 1412, 'max_depth': 9, 'min_child_weight': 1, 'num_parallel_tree': 1}. Best is trial 59 with value: 0.7912593444508338.\n",
      "[I 2023-12-23 14:30:00,351] Trial 95 finished with value: 0.7843588269120184 and parameters: {'lambda': 5.238648820661093, 'alpha': 0.6525953696248497, 'colsample_bytree': 0.7157728546559043, 'subsample': 0.5671561709151056, 'learning_rate': 0.015649873402694713, 'n_estimators': 1348, 'max_depth': 8, 'min_child_weight': 2, 'num_parallel_tree': 1}. Best is trial 59 with value: 0.7912593444508338.\n",
      "[I 2023-12-23 14:30:01,569] Trial 96 finished with value: 0.7866589994249569 and parameters: {'lambda': 4.878529139217423, 'alpha': 1.8429487761406707, 'colsample_bytree': 0.8651684794856453, 'subsample': 0.3244195175620783, 'learning_rate': 0.007813462716726862, 'n_estimators': 944, 'max_depth': 8, 'min_child_weight': 3, 'num_parallel_tree': 1}. Best is trial 59 with value: 0.7912593444508338.\n",
      "[I 2023-12-23 14:30:03,804] Trial 97 finished with value: 0.7889591719378953 and parameters: {'lambda': 3.3476036494916825, 'alpha': 0.24669693966052897, 'colsample_bytree': 0.9646367774863445, 'subsample': 0.5290113250861055, 'learning_rate': 0.0026251649324589704, 'n_estimators': 1248, 'max_depth': 10, 'min_child_weight': 2, 'num_parallel_tree': 1}. Best is trial 59 with value: 0.7912593444508338.\n",
      "[I 2023-12-23 14:30:05,647] Trial 98 finished with value: 0.7843588269120184 and parameters: {'lambda': 3.719319338552361, 'alpha': 0.9524338367147767, 'colsample_bytree': 0.6671056128826205, 'subsample': 0.4598248032377592, 'learning_rate': 0.01246575653011629, 'n_estimators': 1453, 'max_depth': 8, 'min_child_weight': 4, 'num_parallel_tree': 1}. Best is trial 59 with value: 0.7912593444508338.\n",
      "[I 2023-12-23 14:30:06,708] Trial 99 finished with value: 0.7791834387579069 and parameters: {'lambda': 4.610522506792694, 'alpha': 1.695724917044923, 'colsample_bytree': 0.887898995833583, 'subsample': 0.5094902279490118, 'learning_rate': 0.05853122645572312, 'n_estimators': 1071, 'max_depth': 5, 'min_child_weight': 1, 'num_parallel_tree': 1}. Best is trial 59 with value: 0.7912593444508338.\n"
     ]
    },
    {
     "name": "stdout",
     "output_type": "stream",
     "text": [
      "Best Parameters: {'lambda': 3.699552278775611, 'alpha': 1.6752521498236774, 'colsample_bytree': 0.8476243151869602, 'subsample': 0.5570766719377115, 'learning_rate': 0.01345445944656374, 'n_estimators': 991, 'max_depth': 8, 'min_child_weight': 2, 'num_parallel_tree': 1}\n",
      "Final Model Accuracy: 0.7912593444508338\n"
     ]
    }
   ],
   "source": [
    "def objective(trial):\n",
    "    params = {\n",
    "        'lambda': trial.suggest_float('lambda', 0, 10.0),\n",
    "        'alpha': trial.suggest_float('alpha', 0, 10.0),\n",
    "        'colsample_bytree': trial.suggest_float('colsample_bytree', 0.1, 1.0),\n",
    "        'subsample': trial.suggest_float('subsample', 0.2, 1.0),\n",
    "        'learning_rate': trial.suggest_float('learning_rate', 0.0001, 0.1),\n",
    "        'n_estimators': trial.suggest_int('n_estimators', 100, 3000),\n",
    "        'max_depth': trial.suggest_categorical('max_depth', [2, 3, 4, 5, 6, 7, 8, 9, 10]),\n",
    "        'min_child_weight': trial.suggest_int('min_child_weight', 1, 10),\n",
    "        'num_parallel_tree': trial.suggest_int('num_parallel_tree', 1, 1)\n",
    "    }\n",
    "\n",
    "    model = XGBClassifier(**params)\n",
    "\n",
    "    model.fit(X_train, Y_train)\n",
    "    preds = model.predict(X_test)\n",
    "    accuracy = accuracy_score(Y_test, preds)\n",
    "    \n",
    "    return accuracy\n",
    "\n",
    "# Create a study object and optimize the objective function\n",
    "study = optuna.create_study(direction='maximize')\n",
    "study.optimize(objective, n_trials=100)\n",
    "\n",
    "# Get the best parameters from the study\n",
    "best_params = study.best_params\n",
    "print(\"Best Parameters:\", best_params)\n",
    "\n",
    "# Train the final model with the best parameters\n",
    "final_model = XGBClassifier(**best_params)\n",
    "final_model.fit(X_train, Y_train)\n",
    "\n",
    "# Evaluate the final model\n",
    "final_preds = final_model.predict(X_test)\n",
    "final_accuracy = accuracy_score(Y_test, final_preds)\n",
    "print(\"Final Model Accuracy:\", final_accuracy)\n",
    "\n",
    "\n",
    "\n"
   ]
  },
  {
   "cell_type": "code",
   "execution_count": null,
   "metadata": {},
   "outputs": [],
   "source": [
    "best_params = {'lambda': 3.699552278775611, 'alpha': 1.6752521498236774, 'colsample_bytree': 0.8476243151869602, 'subsample': 0.5570766719377115, 'learning_rate': 0.01345445944656374, 'n_estimators': 991, 'max_depth': 8, 'min_child_weight': 2, 'num_parallel_tree': 1}\n",
    "\n",
    "# Create and train the final model with the best parameters\n",
    "final_model = XGBClassifier(**best_params)\n",
    "final_model.fit(X,Y)\n"
   ]
  },
  {
   "cell_type": "code",
   "execution_count": 31,
   "metadata": {},
   "outputs": [],
   "source": [
    "passenger_ids = test_df['PassengerId']\n",
    "\n",
    "# Drop PassengerId for model prediction\n",
    "test_df = test_df.drop(['PassengerId'], axis=1)\n",
    "\n",
    "# Make predictions\n",
    "predictions = final_model.predict(test_df)\n",
    "\n",
    "# Create a DataFrame for submission\n",
    "submission_df = pd.DataFrame({\n",
    "    'PassengerId': passenger_ids,\n",
    "    'Transported': predictions.astype(bool)\n",
    "})\n",
    "\n",
    "# Save the submission DataFrame to a CSV file\n",
    "submission_df.to_csv('submission1.csv', index=False)"
   ]
  }
 ],
 "metadata": {
  "kernelspec": {
   "display_name": "Kaglehouse",
   "language": "python",
   "name": "python3"
  },
  "language_info": {
   "codemirror_mode": {
    "name": "ipython",
    "version": 3
   },
   "file_extension": ".py",
   "mimetype": "text/x-python",
   "name": "python",
   "nbconvert_exporter": "python",
   "pygments_lexer": "ipython3",
   "version": "3.11.5"
  }
 },
 "nbformat": 4,
 "nbformat_minor": 2
}
